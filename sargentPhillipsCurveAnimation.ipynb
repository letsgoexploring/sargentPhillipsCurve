{
 "cells": [
  {
   "cell_type": "code",
   "execution_count": 1,
   "metadata": {
    "collapsed": true
   },
   "outputs": [],
   "source": [
    "import matplotlib\n",
    "matplotlib.use(\"Agg\")\n",
    "import matplotlib.pyplot as plt\n",
    "import matplotlib.animation as animation\n",
    "import matplotlib.cm as cm\n",
    "import numpy as np\n",
    "from fredpy import series,window_equalize\n",
    "import subprocess"
   ]
  },
  {
   "cell_type": "code",
   "execution_count": 2,
   "metadata": {
    "collapsed": true
   },
   "outputs": [],
   "source": [
    "# Dowload data from FRED\n",
    "u = series('LNS14000028')\n",
    "p = series('CPIAUCSL')\n",
    "\n",
    "# Construct the inflation series\n",
    "p.pc(annualized=True)\n",
    "p.ma2side(length=6)\n",
    "p.data = p.ma2data\n",
    "p.datenumbers = p.ma2datenumbers\n",
    "p.dates = p.ma2dates\n",
    "\n",
    "window_equalize([p,u])\n",
    "p.bpfilter(low=24,high=84,K=84)\n",
    "u.bpfilter(low=24,high=84,K=84)\n",
    "\n",
    "# Set data for animation\n",
    "x = u.bpcycle\n",
    "y = p.bpcycle\n",
    "d=u.bpdates\n",
    "n=len(x)"
   ]
  },
  {
   "cell_type": "code",
   "execution_count": 3,
   "metadata": {
    "collapsed": true
   },
   "outputs": [],
   "source": [
    "# Plot setup\n",
    "font = {'weight' : 'bold',\n",
    "        'size'   : 15}\n",
    "plt.rc('font', **font)\n",
    "plt.rcParams['xtick.major.pad']='8'\n",
    "plt.rcParams['ytick.major.pad']='8'\n",
    "\n",
    "# colormap\n",
    "color=cm.rainbow(np.linspace(0,1,n))\n",
    "\n",
    "# Initialize figure\n",
    "fig = plt.figure(figsize=(16,9))\n",
    "ax = fig.add_subplot(1,1,1)\n",
    "ax.grid()\n",
    "xdata, ydata = [], []\n",
    "ax.set_ylim(-4, 5)\n",
    "ax.set_xlim(-2, 2)\n",
    "ax.set_xlabel('Unemployment rate (%)',fontsize=20)\n",
    "ax.set_ylabel('Inflation rate (%)',fontsize=20)\n",
    "ax.set_title('US inflation and unemployment: BP-filtered data',fontsize=25)\n",
    "\n",
    "scatter = ax.scatter([], [])\n",
    "text = ax.text(1.95, 4.35, '',fontsize=18,horizontalalignment='right')"
    "ax.text(1.125,-3.75, 'Created by Brian C Jenkins',fontsize=11, color='black',alpha=0.5)"
   ]
  },
  {
   "cell_type": "code",
   "execution_count": 4,
   "metadata": {
    "collapsed": true
   },
   "outputs": [],
   "source": [
    "def update_plot(i):\n",
    "\n",
    "    scatter = ax.plot(x[i],y[i],'o',fillstyle='none',alpha=0.9,markeredgecolor=color[i], markeredgewidth=2,markersize=13)\n",
    "    text.set_text(d[i][0:4])\n",
    "\n",
    "    return scatter, text"
   ]
  },
  {
   "cell_type": "code",
   "execution_count": 5,
   "metadata": {
    "collapsed": false
   },
   "outputs": [
    {
     "name": "stderr",
     "output_type": "stream",
     "text": [
      "/Users/bcjenkin/anaconda/lib/python3.4/site-packages/matplotlib/collections.py:590: FutureWarning: elementwise comparison failed; returning scalar instead, but in the future will perform elementwise comparison\n",
      "  if self._edgecolors == str('face'):\n"
     ]
    }
   ],
   "source": [
    "# Set up formatting for the movie files\n",
    "Writer = animation.writers['ffmpeg']\n",
    "writer = Writer(fps=10, metadata=dict(artist='Brian C Jenkins'), bitrate=5000)\n",
    "\n",
    "# Make the animation\n",
    "ani = animation.FuncAnimation(fig, update_plot, frames = n,fargs = (), blit=False,repeat=False,interval=20)\n",
    "\n",
    "# Save the animation as .mp4\n",
    "ani.save('US_Inflation_Unemployment_Monthly_BP_Filtered.mp4',writer=writer)\n",
    "\n",
    "# Save the final image of the animation to use as the still image placeholder\n",
    "plt.savefig('US_Inflation_Unemployment_Monthly_BP_Filtered.png',bbox_inches='tight',dpi=120)\n",
    "# plt.show()"
   ]
  },
  {
   "cell_type": "code",
   "execution_count": 6,
   "metadata": {
    "collapsed": false
   },
   "outputs": [
    {
     "data": {
      "text/plain": [
       "0"
      ]
     },
     "execution_count": 6,
     "metadata": {},
     "output_type": "execute_result"
    }
   ],
   "source": [
    "# Convert the mp4 video to ogg format\n",
    "makeOgg = 'ffmpeg -i US_Inflation_Unemployment_Monthly_BP_Filtered.mp4 -acodec libvorbis -ac 2 -ab 128k -ar 44100 -b:v 1800k  US_Inflation_Unemployment_Monthly_BP_Filtered.ogv'\n",
    "subprocess.call(makeOgg,shell=True)"
   ]
  }
 ],
 "metadata": {
  "kernelspec": {
   "display_name": "Python 3",
   "language": "python",
   "name": "python3"
  },
  "language_info": {
   "codemirror_mode": {
    "name": "ipython",
    "version": 3
   },
   "file_extension": ".py",
   "mimetype": "text/x-python",
   "name": "python",
   "nbconvert_exporter": "python",
   "pygments_lexer": "ipython3",
   "version": "3.4.3"
  }
 },
 "nbformat": 4,
 "nbformat_minor": 0
}
